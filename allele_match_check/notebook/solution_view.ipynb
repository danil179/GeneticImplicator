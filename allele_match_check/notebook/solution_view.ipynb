{
 "cells": [
  {
   "cell_type": "markdown",
   "metadata": {},
   "source": [
    "## Imports\n"
   ]
  },
  {
   "cell_type": "code",
   "execution_count": null,
   "metadata": {},
   "outputs": [],
   "source": [
    "import matplotlib.pyplot as plt\n",
    "import matplotlib.patches as patches"
   ]
  },
  {
   "cell_type": "markdown",
   "metadata": {},
   "source": [
    "## Configuration\n",
    "This part configure the solution (path to the file and which solution to view).\n",
    "\n",
    "also load some important variables."
   ]
  },
  {
   "cell_type": "code",
   "execution_count": null,
   "metadata": {},
   "outputs": [],
   "source": [
    "# change this to csv solution path\n",
    "SOL_PATH = INSERT_PATH\n",
    "# change to family code, write as string\n",
    "FAM_CODE = INSERT_FAMCODE\n",
    "# change to solution number (some families have many solutions)\n",
    "SOL_INDEX = INSERT_SOLINDEX\n",
    "\n",
    "SOL_FILE = open(SOL_PATH,'r+')\n",
    "SOL_LINES = SOL_FILE.readlines()\n",
    "fam_solutions = []\n",
    "for sol_line in SOL_LINES:\n",
    "    if sol_line.split(',')[0] == FAM_CODE:\n",
    "        fam_solutions.append(sol_line.split(',')[1:]) \n",
    "CHILDS_INDEX = 4\n",
    "childs_num = fam_solutions[SOL_INDEX][CHILDS_INDEX].count('=')"
   ]
  },
  {
   "cell_type": "markdown",
   "metadata": {},
   "source": [
    "## Plot code\n",
    "This pat plot the parents and childs.\n",
    "\n",
    "For the parents it prints the haplotypes for the current solution, and for the child it prints all the matchings with parents' haplotypes."
   ]
  },
  {
   "cell_type": "code",
   "execution_count": null,
   "metadata": {},
   "outputs": [],
   "source": [
    "# initialize graph components sizes\n",
    "mid = 0.5\n",
    "parent_offset = 0.05\n",
    "width=0.15\n",
    "height=0.15\n",
    "parent_top = 0.8\n",
    "childs_right = 0.1\n",
    "childs_space = 0.02\n",
    "childs_top = 0.35\n",
    "\n",
    "# initialize graph size\n",
    "fig = plt.figure()\n",
    "ax = fig.add_axes([0,0,9,1])\n",
    "ax.set_axis_off()\n",
    "\n",
    "# create rectangles for each parent and add haplotype text\n",
    "for hap in range(2):\n",
    "    father_coords = (mid-parent_offset-width,parent_top-height-hap*height)\n",
    "    mother_coords = (mid+parent_offset,parent_top-height-hap*height)\n",
    "    father_text_coords = (father_coords[0]+width/2,father_coords[1]+height/2)\n",
    "    mother_text_coords = (mother_coords[0]+width/2,mother_coords[1]+height/2)\n",
    "    if hap==0:\n",
    "        father_caption = (father_text_coords[0],father_text_coords[1]+height)\n",
    "        mother_caption = (mother_text_coords[0],mother_text_coords[1]+height)\n",
    "        ax.annotate('Father',xy=father_caption,color='black', weight='bold', fontsize=24, ha='center',va='center')\n",
    "        ax.annotate('Mother',xy=mother_caption,color='black', weight='bold', fontsize=24, ha='center',va='center')\n",
    "    father_hap_rect = patches.Rectangle(father_coords,width,height,linewidth=1,edgecolor='black',facecolor='none')\n",
    "    ax.annotate('F'+str(hap+1)+': '+fam_solutions[SOL_INDEX][hap].strip('\"'),xy=father_text_coords,color='black', weight='bold', fontsize=16, ha='center',va='center')\n",
    "    mother_hap_rect = patches.Rectangle(mother_coords,width,height,linewidth=1,edgecolor='black',facecolor='none')\n",
    "    ax.annotate('M'+str(hap+1)+': '+fam_solutions[SOL_INDEX][2+hap].strip('\"'),xy=mother_text_coords,color='black', weight='bold', fontsize=16, ha='center',va='center')\n",
    "    #ax.text(father_coords[0],father_coords[1],'Hello',fontsize=24)\n",
    "    ax.add_patch(father_hap_rect)\n",
    "    ax.add_patch(mother_hap_rect)\n",
    "\n",
    "# create rectangle for each child and add haplotype text\n",
    "for child_num in range(childs_num):\n",
    "    cur_child = fam_solutions[SOL_INDEX][CHILDS_INDEX].split(':')[child_num].lstrip('\"')\n",
    "    for hap in range(2):\n",
    "        # complex computation of x,y for current child\n",
    "        child_coords = (mid+(childs_space+width)*(child_num-childs_num/2+0.5)-width/2,childs_top-height-hap*height)\n",
    "        child_text_coords = (child_coords[0]+width/2,child_coords[1]+height/2)\n",
    "        if hap == 0:\n",
    "            child_caption = (child_text_coords[0],child_text_coords[1]+height)\n",
    "            ax.annotate('Child '+cur_child.split('=')[0],xy=child_caption,color='black', weight='bold', fontsize=24, ha='center',va='center')\n",
    "        child_hap_rect = patches.Rectangle(child_coords,width,height,linewidth=1,edgecolor='black',facecolor='none')\n",
    "        hap_text = cur_child.split('=')[1].split('~')[hap].replace('+',\" and \").rstrip('\\n').rstrip('\"')\n",
    "        ax.add_patch(child_hap_rect)\n",
    "        ax.annotate(hap_text,xy=child_text_coords,color='black', weight='bold', fontsize=24, ha='center',va='center')\n",
    "# output mark\n",
    "#ax.annotate(\"Output\",xy=(0,0.5),color='black', weight='bold', fontsize=24, ha='center',va='center')\n",
    "plt.show()"
   ]
  }
 ],
 "metadata": {
  "kernelspec": {
   "display_name": "Python 3",
   "language": "python",
   "name": "python3"
  },
  "language_info": {
   "codemirror_mode": {
    "name": "ipython",
    "version": 3
   },
   "file_extension": ".py",
   "mimetype": "text/x-python",
   "name": "python",
   "nbconvert_exporter": "python",
   "pygments_lexer": "ipython3",
   "version": "3.7.0"
  }
 },
 "nbformat": 4,
 "nbformat_minor": 2
}
